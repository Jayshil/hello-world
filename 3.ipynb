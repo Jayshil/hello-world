import numpy as np
import matplotlib.pyplot as plt

x = np.random.normal(0,10,1000)
plt.hist(x)
