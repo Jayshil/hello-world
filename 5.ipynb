import numpy as np
import matplotlib.pyplot as plt

xx = np.random.normal(1,0.5,10000)
plt.hist(xx)
