# %% codecell
import numpy as np
# %% codecell
import matplotlib.pyplot as plt

x = np.random.normal(0,1,1000)
plt.hist(x)
plt.show()
